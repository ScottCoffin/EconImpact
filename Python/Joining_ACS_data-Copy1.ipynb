{
 "cells": [
  {
   "cell_type": "code",
   "execution_count": 2,
   "metadata": {},
   "outputs": [],
   "source": [
    "import pandas as pd\n",
    "tract_join=pd.read_csv('../Datasets/ALL_watersystems_tracts_intersection.txt',encoding = \"ISO-8859-1\")\n",
    "tract_info=tract_join[['PWSID','D_POPULATI','GEOID10','ALAND10','AWATER10','AREA_TRACT','AREA_Intersection','Proportion_Int_Tract']]\n",
    "caldata=pd.read_excel('../Datasets/calenviroscreen.xlsx','CES 3.0 (2018 Update)')"
   ]
  },
  {
   "cell_type": "code",
   "execution_count": 3,
   "metadata": {},
   "outputs": [],
   "source": [
    "#Read in the CWS data\n",
    "cws=pd.read_csv('../Datasets/CWS.csv').dropna(subset=['Water System No.'])\n",
    "def mk_pwsid(row):\n",
    "    return('CA{:07d}'.format(int(row['Water System No.'])))\n",
    "cws.loc[:,'PWSID']=cws.apply(mk_pwsid,axis=1)\n",
    "cws_tract=pd.merge(cws,tract_info)"
   ]
  },
  {
   "cell_type": "code",
   "execution_count": 4,
   "metadata": {},
   "outputs": [],
   "source": [
    "calsub=caldata[['Census Tract','Total Population','CES 3.0 Score']]\n",
    "cal_tract=pd.merge(calsub,cws_tract,left_on='Census Tract',right_on='GEOID10')\n",
    "cal_tract.loc[:,'Tract_Frac_Pop']=cal_tract['Proportion_Int_Tract']*cal_tract['Total Population']"
   ]
  },
  {
   "cell_type": "code",
   "execution_count": 6,
   "metadata": {},
   "outputs": [],
   "source": [
    "cal_merge=cal_tract[['PWSID','Water System Name','Regulating Agency','Fee Code','Service Connections',\n",
    "                     'Population','Census Tract','Total Population','Proportion_Int_Tract','Tract_Frac_Pop','CES 3.0 Score']]"
   ]
  },
  {
   "cell_type": "code",
   "execution_count": 43,
   "metadata": {},
   "outputs": [],
   "source": [
    "#cal_merge.to_excel('../Datasets/System_Tract_Merge_Info.xlsx',index=False)"
   ]
  },
  {
   "cell_type": "code",
   "execution_count": 45,
   "metadata": {},
   "outputs": [],
   "source": [
    "#Read in the ACS median income\n",
    "acs_hh_median=pd.read_csv('../Datasets/ACS/ACS_Median_HH.csv')\n",
    "acs_hh_median.loc[:,'Census Tract']=pd.to_numeric(acs_hh_median['GEO_ID'].str.slice(10,21))\n",
    "acs_hh_rent=pd.read_csv('../Datasets/ACS/ACS_Rent_Pct_Income.csv')\n",
    "acs_hh_rent.loc[:,'Census Tract']=pd.to_numeric(acs_hh_rent['GEO_ID'].str.slice(10,21))"
   ]
  },
  {
   "cell_type": "code",
   "execution_count": 47,
   "metadata": {},
   "outputs": [],
   "source": [
    "acs_1=pd.merge(cal_merge,acs_hh_median[['Census Tract','Median_12month_HH_Income']],on='Census Tract')\n",
    "acs_2=pd.merge(acs_1,acs_hh_rent[['Census Tract','Median_rent_pct_Income']])"
   ]
  },
  {
   "cell_type": "code",
   "execution_count": null,
   "metadata": {},
   "outputs": [],
   "source": [
    "#Race percentage stats\n"
   ]
  },
  {
   "cell_type": "code",
   "execution_count": 49,
   "metadata": {},
   "outputs": [],
   "source": [
    "acs_cal=acs_2"
   ]
  },
  {
   "cell_type": "code",
   "execution_count": 50,
   "metadata": {},
   "outputs": [],
   "source": [
    "#Population weighted values?\n",
    "sys_stats=pd.DataFrame()\n",
    "field_calcs=['CES 3.0 Score','Median_12month_HH_Income','Median_rent_pct_Income']\n",
    "for p in acs_cal['PWSID'].unique():\n",
    "    csub=acs_cal[acs_cal['PWSID']==p]\n",
    "    cname=csub['Water System Name'].values[0]\n",
    "    sys_stats.loc[p,'NAME']=cname\n",
    "    sys_stats.loc[p,'Fee Code']=csub['Fee Code'].values[0]\n",
    "    #sys_stats.loc[p,'N']=len(csub)\n",
    "    sys_stats.loc[p,'Population']=csub['Population'].mean()\n",
    "    sys_stats.loc[p,'Service Connections']=csub['Service Connections'].mean()\n",
    "    if (len(csub)<2):\n",
    "\n",
    "        sys_stats.loc[p,'Population']=csub['Population'].values[0]\n",
    "        for c in field_calcs:\n",
    "            sys_stats.loc[p,c]=csub[c].values[0]\n",
    "    else:\n",
    "\n",
    "        pop_tracts=csub['Tract_Frac_Pop'].sum()\n",
    "        for c in field_calcs:\n",
    "            #print(csub[['Tract_Frac_Pop',c]])\n",
    "            #print((csub['Tract_Frac_Pop']*csub[c]).sum()/csub['Tract_Frac_Pop'].sum())\n",
    "            sys_stats.loc[p,c]=(csub['Tract_Frac_Pop']*csub[c]).sum()/csub['Tract_Frac_Pop'].sum()\n",
    "        "
   ]
  },
  {
   "cell_type": "code",
   "execution_count": 52,
   "metadata": {},
   "outputs": [],
   "source": [
    "#sys_stats\n",
    "sys_stats.to_excel('../Datasets/pop_weighted_characteristics.xlsx')"
   ]
  },
  {
   "cell_type": "code",
   "execution_count": 41,
   "metadata": {},
   "outputs": [],
   "source": []
  }
 ],
 "metadata": {
  "kernelspec": {
   "display_name": "Python 3",
   "language": "python",
   "name": "python3"
  },
  "language_info": {
   "codemirror_mode": {
    "name": "ipython",
    "version": 3
   },
   "file_extension": ".py",
   "mimetype": "text/x-python",
   "name": "python",
   "nbconvert_exporter": "python",
   "pygments_lexer": "ipython3",
   "version": "3.7.7"
  }
 },
 "nbformat": 4,
 "nbformat_minor": 4
}
