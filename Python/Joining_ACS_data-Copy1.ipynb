{
 "cells": [
  {
   "cell_type": "code",
   "execution_count": 10,
   "metadata": {},
   "outputs": [],
   "source": [
    "import pandas as pd\n",
    "tract_join=pd.read_csv('../Datasets/ALL_watersystems_tracts_intersection.txt',encoding = \"ISO-8859-1\")\n",
    "tract_info=tract_join[['PWSID','D_POPULATI','GEOID10','ALAND10','AWATER10','AREA_TRACT','AREA_Intersection','Proportion_Int_Tract']]\n",
    "caldata=pd.read_excel('../Datasets/calenviroscreen.xlsx','CES 3.0 (2018 Update)')"
   ]
  },
  {
   "cell_type": "code",
   "execution_count": 23,
   "metadata": {},
   "outputs": [],
   "source": [
    "#Read in the CWS data\n",
    "cws=pd.read_csv('../Datasets/CWS.csv').dropna(subset=['Water System No.'])\n",
    "def mk_pwsid(row):\n",
    "    return('CA{:07d}'.format(int(row['Water System No.'])))\n",
    "cws.loc[:,'PWSID']=cws.apply(mk_pwsid,axis=1)\n",
    "cws_tract=pd.merge(cws,tract_info)"
   ]
  },
  {
   "cell_type": "code",
   "execution_count": 32,
   "metadata": {},
   "outputs": [],
   "source": [
    "calsub=caldata[['Census Tract','Total Population','CES 3.0 Score']]\n",
    "cal_tract=pd.merge(calsub,cws_tract,left_on='Census Tract',right_on='GEOID10')\n",
    "cal_tract.loc[:,'Tract_Frac_Pop']=cal_tract['Proportion_Int_Tract']*cal_tract['Total Population']"
   ]
  },
  {
   "cell_type": "code",
   "execution_count": 36,
   "metadata": {},
   "outputs": [
    {
     "data": {
      "text/plain": [
       "Index(['Census Tract', 'Total Population', 'CES 3.0 Score',\n",
       "       'Regulating Agency', 'Water System No.', 'Water System Name',\n",
       "       'Fed Type', 'State Type', 'DS Class', 'Max TP Class', 'Fee Code',\n",
       "       'Service Connections', 'Population', 'Last SNSV', 'PWSID', 'D_POPULATI',\n",
       "       'GEOID10', 'ALAND10', 'AWATER10', 'AREA_TRACT', 'AREA_Intersection',\n",
       "       'Proportion_Int_Tract', 'Tract_Frac_Pop'],\n",
       "      dtype='object')"
      ]
     },
     "execution_count": 36,
     "metadata": {},
     "output_type": "execute_result"
    }
   ],
   "source": [
    "cal_tract.columns"
   ]
  },
  {
   "cell_type": "code",
   "execution_count": 42,
   "metadata": {},
   "outputs": [],
   "source": [
    "cal_merge=cal_tract[['PWSID','Water System Name','Regulating Agency','Fee Code','Service Connections',\n",
    "                     'Population','Census Tract','Total Population','Proportion_Int_Tract','Tract_Frac_Pop','CES 3.0 Score']]"
   ]
  },
  {
   "cell_type": "code",
   "execution_count": 43,
   "metadata": {},
   "outputs": [],
   "source": [
    "cal_merge.to_excel('../Datasets/System_Tract_Merge_Info.xlsx',index=False)"
   ]
  },
  {
   "cell_type": "code",
   "execution_count": 38,
   "metadata": {},
   "outputs": [],
   "source": [
    "#Population weighted values?\n",
    "sys_stats=pd.DataFrame()\n",
    "field_calcs=['CES 3.0 Score']\n",
    "for p in cal_merge['PWSID'].unique():\n",
    "    csub=cal_merge[cal_merge['PWSID']==p]\n",
    "    cname=csub['Water System Name'].values[0]\n",
    "    sys_stats.loc[p,'NAME']=cname\n",
    "    sys_stats.loc[p,'N']=len(csub)\n",
    "    sys_stats.loc[p,'Population']=csub['Population'].mean()\n",
    "    if (len(csub)<2):\n",
    "\n",
    "        sys_stats.loc[p,'Population']=csub['Population'].values[0]\n",
    "        for c in field_calcs:\n",
    "            sys_stats.loc[p,c]=csub[c].values[0]\n",
    "    else:\n",
    "\n",
    "        pop_tracts=csub['Tract_Frac_Pop'].sum()\n",
    "        for c in field_calcs:\n",
    "            #print(csub[['Tract_Frac_Pop',c]])\n",
    "            #print((csub['Tract_Frac_Pop']*csub[c]).sum()/csub['Tract_Frac_Pop'].sum())\n",
    "            sys_stats.loc[p,c]=(csub['Tract_Frac_Pop']*csub[c]).sum()/csub['Tract_Frac_Pop'].sum()\n",
    "        "
   ]
  },
  {
   "cell_type": "code",
   "execution_count": 39,
   "metadata": {},
   "outputs": [
    {
     "data": {
      "text/html": [
       "<div>\n",
       "<style scoped>\n",
       "    .dataframe tbody tr th:only-of-type {\n",
       "        vertical-align: middle;\n",
       "    }\n",
       "\n",
       "    .dataframe tbody tr th {\n",
       "        vertical-align: top;\n",
       "    }\n",
       "\n",
       "    .dataframe thead th {\n",
       "        text-align: right;\n",
       "    }\n",
       "</style>\n",
       "<table border=\"1\" class=\"dataframe\">\n",
       "  <thead>\n",
       "    <tr style=\"text-align: right;\">\n",
       "      <th></th>\n",
       "      <th>NAME</th>\n",
       "      <th>N</th>\n",
       "      <th>Population</th>\n",
       "      <th>CES 3.0 Score</th>\n",
       "    </tr>\n",
       "  </thead>\n",
       "  <tbody>\n",
       "    <tr>\n",
       "      <th>CA1010007</th>\n",
       "      <td>CITY OF FRESNO</td>\n",
       "      <td>137.0</td>\n",
       "      <td>541990.0</td>\n",
       "      <td>46.583557</td>\n",
       "    </tr>\n",
       "    <tr>\n",
       "      <th>CA3610034</th>\n",
       "      <td>ONTARIO MUNICIPAL UTILITIES COMPANY</td>\n",
       "      <td>52.0</td>\n",
       "      <td>181107.0</td>\n",
       "      <td>50.591674</td>\n",
       "    </tr>\n",
       "    <tr>\n",
       "      <th>CA3610029</th>\n",
       "      <td>MONTE VISTA CWD</td>\n",
       "      <td>29.0</td>\n",
       "      <td>57678.0</td>\n",
       "      <td>47.757210</td>\n",
       "    </tr>\n",
       "    <tr>\n",
       "      <th>CA3910001</th>\n",
       "      <td>CALIFORNIA WATER SERVICE - STOCKTON</td>\n",
       "      <td>51.0</td>\n",
       "      <td>172105.0</td>\n",
       "      <td>55.321439</td>\n",
       "    </tr>\n",
       "    <tr>\n",
       "      <th>CA2900530</th>\n",
       "      <td>ROUGH &amp; READY MOBILEHOME VILLAGE</td>\n",
       "      <td>4.0</td>\n",
       "      <td>200.0</td>\n",
       "      <td>72.924703</td>\n",
       "    </tr>\n",
       "    <tr>\n",
       "      <th>...</th>\n",
       "      <td>...</td>\n",
       "      <td>...</td>\n",
       "      <td>...</td>\n",
       "      <td>...</td>\n",
       "    </tr>\n",
       "    <tr>\n",
       "      <th>CA2701731</th>\n",
       "      <td>BRANDON CREEK MWS</td>\n",
       "      <td>1.0</td>\n",
       "      <td>41.0</td>\n",
       "      <td>NaN</td>\n",
       "    </tr>\n",
       "    <tr>\n",
       "      <th>CA2702325</th>\n",
       "      <td>FERNWOOD WS</td>\n",
       "      <td>1.0</td>\n",
       "      <td>133.0</td>\n",
       "      <td>NaN</td>\n",
       "    </tr>\n",
       "    <tr>\n",
       "      <th>CA2701278</th>\n",
       "      <td>RANCHO CHAPARRAL MWC</td>\n",
       "      <td>1.0</td>\n",
       "      <td>48.0</td>\n",
       "      <td>NaN</td>\n",
       "    </tr>\n",
       "    <tr>\n",
       "      <th>CA2701280</th>\n",
       "      <td>NEPENTHE WS</td>\n",
       "      <td>1.0</td>\n",
       "      <td>50.0</td>\n",
       "      <td>NaN</td>\n",
       "    </tr>\n",
       "    <tr>\n",
       "      <th>CA5610702</th>\n",
       "      <td>U.S.N., SAN NICOLAS ISLAND</td>\n",
       "      <td>1.0</td>\n",
       "      <td>187.0</td>\n",
       "      <td>NaN</td>\n",
       "    </tr>\n",
       "  </tbody>\n",
       "</table>\n",
       "<p>2793 rows × 4 columns</p>\n",
       "</div>"
      ],
      "text/plain": [
       "                                          NAME      N  Population  \\\n",
       "CA1010007                       CITY OF FRESNO  137.0    541990.0   \n",
       "CA3610034  ONTARIO MUNICIPAL UTILITIES COMPANY   52.0    181107.0   \n",
       "CA3610029                      MONTE VISTA CWD   29.0     57678.0   \n",
       "CA3910001  CALIFORNIA WATER SERVICE - STOCKTON   51.0    172105.0   \n",
       "CA2900530     ROUGH & READY MOBILEHOME VILLAGE    4.0       200.0   \n",
       "...                                        ...    ...         ...   \n",
       "CA2701731                    BRANDON CREEK MWS    1.0        41.0   \n",
       "CA2702325                          FERNWOOD WS    1.0       133.0   \n",
       "CA2701278                 RANCHO CHAPARRAL MWC    1.0        48.0   \n",
       "CA2701280                          NEPENTHE WS    1.0        50.0   \n",
       "CA5610702           U.S.N., SAN NICOLAS ISLAND    1.0       187.0   \n",
       "\n",
       "           CES 3.0 Score  \n",
       "CA1010007      46.583557  \n",
       "CA3610034      50.591674  \n",
       "CA3610029      47.757210  \n",
       "CA3910001      55.321439  \n",
       "CA2900530      72.924703  \n",
       "...                  ...  \n",
       "CA2701731            NaN  \n",
       "CA2702325            NaN  \n",
       "CA2701278            NaN  \n",
       "CA2701280            NaN  \n",
       "CA5610702            NaN  \n",
       "\n",
       "[2793 rows x 4 columns]"
      ]
     },
     "execution_count": 39,
     "metadata": {},
     "output_type": "execute_result"
    }
   ],
   "source": [
    "sys_stats"
   ]
  },
  {
   "cell_type": "code",
   "execution_count": 50,
   "metadata": {},
   "outputs": [],
   "source": [
    "sys_stats.to_excel('example_pop_weighted_characteristics.xlsx')"
   ]
  }
 ],
 "metadata": {
  "kernelspec": {
   "display_name": "Python 3",
   "language": "python",
   "name": "python3"
  },
  "language_info": {
   "codemirror_mode": {
    "name": "ipython",
    "version": 3
   },
   "file_extension": ".py",
   "mimetype": "text/x-python",
   "name": "python",
   "nbconvert_exporter": "python",
   "pygments_lexer": "ipython3",
   "version": "3.7.7"
  }
 },
 "nbformat": 4,
 "nbformat_minor": 4
}
