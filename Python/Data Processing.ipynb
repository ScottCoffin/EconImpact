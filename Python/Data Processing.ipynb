{
 "cells": [
  {
   "cell_type": "code",
   "execution_count": 1,
   "metadata": {},
   "outputs": [],
   "source": [
    "import pandas as pd\n",
    "import numpy as np\n",
    "import matplotlib.pyplot as plt\n",
    "import jenkspy\n",
    "\n",
    "#Read in the dataset\n",
    "lq=pd.read_excel('../Datasets/combined_results_w_pop.xlsx','Large System Financial Qs')\n",
    "sq=pd.read_excel('../Datasets/combined_results_w_pop.xlsx','Small System Financial Qs')\n",
    "conn_ref=pd.read_excel('../Datasets/combined_results_w_pop.xlsx','Population and Connections')\n",
    "conn_ref.loc[:,'Bin']=pd.cut(conn_ref['Service Connections'],bins=[0,1045,3383,6458,10000,1000000000],\n",
    "                            labels=['A','B','C','D','Large'])\n"
   ]
  },
  {
   "cell_type": "code",
   "execution_count": 24,
   "metadata": {},
   "outputs": [],
   "source": [
    "name_ref=lq[['PWSID','sys_name']].append(sq[['PWSID','sys_name']])"
   ]
  },
  {
   "cell_type": "code",
   "execution_count": 3,
   "metadata": {},
   "outputs": [],
   "source": [
    "zips=pd.read_excel('../Datasets/combined_results_w_pop.xlsx','Combined Zip Table')\n",
    "zips.loc[:,'row sum']=zips[['Less than $100', '$100-$200', '$200-$300', '$300-$400',\n",
    "       '$400-$500', '$500-$600', '$600-$700', '$700-$800', '$800-$900',\n",
    "       '$900-$1000', 'More than $1000']].sum(axis=1)"
   ]
  },
  {
   "cell_type": "code",
   "execution_count": 4,
   "metadata": {},
   "outputs": [],
   "source": [
    "for i,r in zips.iterrows():\n",
    "    if r['Total number of delinquent residential accounts']==r['row sum']:\n",
    "        r[r.isna()]=0\n",
    "        zips.iloc[i,:]=r\n"
   ]
  },
  {
   "cell_type": "code",
   "execution_count": 43,
   "metadata": {},
   "outputs": [],
   "source": [
    "#Per zip code demographic info\n",
    "zip_dem=pd.read_excel(\"../Datasets/ACS/zip_code_ref_ACS.xlsx\",'CA ZCTA ACS Data ')"
   ]
  },
  {
   "cell_type": "code",
   "execution_count": 41,
   "metadata": {
    "collapsed": true
   },
   "outputs": [
    {
     "name": "stdout",
     "output_type": "stream",
     "text": [
      "          More than $1000\n",
      "Zip Code                 \n",
      "92230              6076.0\n",
      "90011              3502.0\n",
      "90003              3437.0\n",
      "90044              3165.0\n",
      "91331              2803.0\n",
      "91342              2672.0\n",
      "91335              2600.0\n",
      "91304              2509.0\n",
      "91343              2320.0\n",
      "91402              2236.0\n",
      "90047              2200.0\n"
     ]
    },
    {
     "data": {
      "text/html": [
       "<div>\n",
       "<style scoped>\n",
       "    .dataframe tbody tr th:only-of-type {\n",
       "        vertical-align: middle;\n",
       "    }\n",
       "\n",
       "    .dataframe tbody tr th {\n",
       "        vertical-align: top;\n",
       "    }\n",
       "\n",
       "    .dataframe thead th {\n",
       "        text-align: right;\n",
       "    }\n",
       "</style>\n",
       "<table border=\"1\" class=\"dataframe\">\n",
       "  <thead>\n",
       "    <tr style=\"text-align: right;\">\n",
       "      <th></th>\n",
       "      <th>Zip Code</th>\n",
       "      <th>More than $1000</th>\n",
       "      <th>sys_name</th>\n",
       "    </tr>\n",
       "  </thead>\n",
       "  <tbody>\n",
       "    <tr>\n",
       "      <th>3</th>\n",
       "      <td>90003</td>\n",
       "      <td>0.0</td>\n",
       "      <td>GSWC (small systems)</td>\n",
       "    </tr>\n",
       "    <tr>\n",
       "      <th>4</th>\n",
       "      <td>90003</td>\n",
       "      <td>3437.0</td>\n",
       "      <td>LOS ANGELES-CITY, DEPT. OF WATER &amp; POWER</td>\n",
       "    </tr>\n",
       "    <tr>\n",
       "      <th>5</th>\n",
       "      <td>90011</td>\n",
       "      <td>3502.0</td>\n",
       "      <td>LOS ANGELES-CITY, DEPT. OF WATER &amp; POWER</td>\n",
       "    </tr>\n",
       "    <tr>\n",
       "      <th>6</th>\n",
       "      <td>90044</td>\n",
       "      <td>3165.0</td>\n",
       "      <td>LOS ANGELES-CITY, DEPT. OF WATER &amp; POWER</td>\n",
       "    </tr>\n",
       "    <tr>\n",
       "      <th>2</th>\n",
       "      <td>90047</td>\n",
       "      <td>0.0</td>\n",
       "      <td>GSWC (small systems)</td>\n",
       "    </tr>\n",
       "    <tr>\n",
       "      <th>7</th>\n",
       "      <td>90047</td>\n",
       "      <td>2200.0</td>\n",
       "      <td>LOS ANGELES-CITY, DEPT. OF WATER &amp; POWER</td>\n",
       "    </tr>\n",
       "    <tr>\n",
       "      <th>8</th>\n",
       "      <td>91304</td>\n",
       "      <td>2509.0</td>\n",
       "      <td>LOS ANGELES-CITY, DEPT. OF WATER &amp; POWER</td>\n",
       "    </tr>\n",
       "    <tr>\n",
       "      <th>9</th>\n",
       "      <td>91331</td>\n",
       "      <td>2803.0</td>\n",
       "      <td>LOS ANGELES-CITY, DEPT. OF WATER &amp; POWER</td>\n",
       "    </tr>\n",
       "    <tr>\n",
       "      <th>0</th>\n",
       "      <td>91335</td>\n",
       "      <td>0.0</td>\n",
       "      <td>CRESTLINE VILLAGE CWD - DIVISION 10</td>\n",
       "    </tr>\n",
       "    <tr>\n",
       "      <th>10</th>\n",
       "      <td>91335</td>\n",
       "      <td>2600.0</td>\n",
       "      <td>LOS ANGELES-CITY, DEPT. OF WATER &amp; POWER</td>\n",
       "    </tr>\n",
       "    <tr>\n",
       "      <th>11</th>\n",
       "      <td>91342</td>\n",
       "      <td>2672.0</td>\n",
       "      <td>LOS ANGELES-CITY, DEPT. OF WATER &amp; POWER</td>\n",
       "    </tr>\n",
       "    <tr>\n",
       "      <th>12</th>\n",
       "      <td>91343</td>\n",
       "      <td>2320.0</td>\n",
       "      <td>LOS ANGELES-CITY, DEPT. OF WATER &amp; POWER</td>\n",
       "    </tr>\n",
       "    <tr>\n",
       "      <th>13</th>\n",
       "      <td>91402</td>\n",
       "      <td>2236.0</td>\n",
       "      <td>LOS ANGELES-CITY, DEPT. OF WATER &amp; POWER</td>\n",
       "    </tr>\n",
       "    <tr>\n",
       "      <th>1</th>\n",
       "      <td>92230</td>\n",
       "      <td>6076.0</td>\n",
       "      <td>CABAZON WATER DISTRICT</td>\n",
       "    </tr>\n",
       "  </tbody>\n",
       "</table>\n",
       "</div>"
      ],
      "text/plain": [
       "   Zip Code  More than $1000                                  sys_name\n",
       "3     90003              0.0                      GSWC (small systems)\n",
       "4     90003           3437.0  LOS ANGELES-CITY, DEPT. OF WATER & POWER\n",
       "5     90011           3502.0  LOS ANGELES-CITY, DEPT. OF WATER & POWER\n",
       "6     90044           3165.0  LOS ANGELES-CITY, DEPT. OF WATER & POWER\n",
       "2     90047              0.0                      GSWC (small systems)\n",
       "7     90047           2200.0  LOS ANGELES-CITY, DEPT. OF WATER & POWER\n",
       "8     91304           2509.0  LOS ANGELES-CITY, DEPT. OF WATER & POWER\n",
       "9     91331           2803.0  LOS ANGELES-CITY, DEPT. OF WATER & POWER\n",
       "0     91335              0.0       CRESTLINE VILLAGE CWD - DIVISION 10\n",
       "10    91335           2600.0  LOS ANGELES-CITY, DEPT. OF WATER & POWER\n",
       "11    91342           2672.0  LOS ANGELES-CITY, DEPT. OF WATER & POWER\n",
       "12    91343           2320.0  LOS ANGELES-CITY, DEPT. OF WATER & POWER\n",
       "13    91402           2236.0  LOS ANGELES-CITY, DEPT. OF WATER & POWER\n",
       "1     92230           6076.0                    CABAZON WATER DISTRICT"
      ]
     },
     "execution_count": 41,
     "metadata": {},
     "output_type": "execute_result"
    }
   ],
   "source": [
    "#zips.to_csv('zip_nafill.csv',index=False)\n",
    "byname='More than $1000'\n",
    "#dfz=zips.groupby('Zip Code').sum().sort_values(by='More than $1000',ascending=False).head(10)\n",
    "dfz=zips.groupby('Zip Code').sum().sort_values(by=byname,ascending=False).head(11)\n",
    "print(dfz[[byname]])\n",
    "zips_in=zips[zips['Zip Code'].isin(dfz.index)]\n",
    "pd.merge(zips_in,name_ref).sort_values(by='Zip Code')[['Zip Code',byname,'sys_name']]\n"
   ]
  },
  {
   "cell_type": "code",
   "execution_count": 73,
   "metadata": {
    "collapsed": true
   },
   "outputs": [
    {
     "data": {
      "text/html": [
       "<div>\n",
       "<style scoped>\n",
       "    .dataframe tbody tr th:only-of-type {\n",
       "        vertical-align: middle;\n",
       "    }\n",
       "\n",
       "    .dataframe tbody tr th {\n",
       "        vertical-align: top;\n",
       "    }\n",
       "\n",
       "    .dataframe thead th {\n",
       "        text-align: right;\n",
       "    }\n",
       "</style>\n",
       "<table border=\"1\" class=\"dataframe\">\n",
       "  <thead>\n",
       "    <tr style=\"text-align: right;\">\n",
       "      <th></th>\n",
       "      <th>Zip Code</th>\n",
       "      <th>More than $1000</th>\n",
       "      <th>sys_name</th>\n",
       "    </tr>\n",
       "  </thead>\n",
       "  <tbody>\n",
       "    <tr>\n",
       "      <th>6</th>\n",
       "      <td>90003</td>\n",
       "      <td>0.0</td>\n",
       "      <td>GSWC (small systems)</td>\n",
       "    </tr>\n",
       "    <tr>\n",
       "      <th>8</th>\n",
       "      <td>90003</td>\n",
       "      <td>3437.0</td>\n",
       "      <td>LOS ANGELES-CITY, DEPT. OF WATER &amp; POWER</td>\n",
       "    </tr>\n",
       "    <tr>\n",
       "      <th>5</th>\n",
       "      <td>90047</td>\n",
       "      <td>0.0</td>\n",
       "      <td>GSWC (small systems)</td>\n",
       "    </tr>\n",
       "    <tr>\n",
       "      <th>9</th>\n",
       "      <td>90047</td>\n",
       "      <td>2200.0</td>\n",
       "      <td>LOS ANGELES-CITY, DEPT. OF WATER &amp; POWER</td>\n",
       "    </tr>\n",
       "    <tr>\n",
       "      <th>10</th>\n",
       "      <td>91042</td>\n",
       "      <td>1137.0</td>\n",
       "      <td>LOS ANGELES-CITY, DEPT. OF WATER &amp; POWER</td>\n",
       "    </tr>\n",
       "    <tr>\n",
       "      <th>11</th>\n",
       "      <td>91304</td>\n",
       "      <td>2509.0</td>\n",
       "      <td>LOS ANGELES-CITY, DEPT. OF WATER &amp; POWER</td>\n",
       "    </tr>\n",
       "    <tr>\n",
       "      <th>12</th>\n",
       "      <td>91307</td>\n",
       "      <td>1416.0</td>\n",
       "      <td>LOS ANGELES-CITY, DEPT. OF WATER &amp; POWER</td>\n",
       "    </tr>\n",
       "    <tr>\n",
       "      <th>7</th>\n",
       "      <td>91311</td>\n",
       "      <td>0.0</td>\n",
       "      <td>GLENDALE-CITY, WATER DEPT.</td>\n",
       "    </tr>\n",
       "    <tr>\n",
       "      <th>13</th>\n",
       "      <td>91311</td>\n",
       "      <td>1812.0</td>\n",
       "      <td>LOS ANGELES-CITY, DEPT. OF WATER &amp; POWER</td>\n",
       "    </tr>\n",
       "    <tr>\n",
       "      <th>14</th>\n",
       "      <td>91436</td>\n",
       "      <td>785.0</td>\n",
       "      <td>LOS ANGELES-CITY, DEPT. OF WATER &amp; POWER</td>\n",
       "    </tr>\n",
       "    <tr>\n",
       "      <th>4</th>\n",
       "      <td>92230</td>\n",
       "      <td>6076.0</td>\n",
       "      <td>CABAZON WATER DISTRICT</td>\n",
       "    </tr>\n",
       "    <tr>\n",
       "      <th>0</th>\n",
       "      <td>92341</td>\n",
       "      <td>1.0</td>\n",
       "      <td>GREEN VALLEY MWC</td>\n",
       "    </tr>\n",
       "    <tr>\n",
       "      <th>1</th>\n",
       "      <td>92341</td>\n",
       "      <td>27.0</td>\n",
       "      <td>GREEN VALLEY MWC</td>\n",
       "    </tr>\n",
       "    <tr>\n",
       "      <th>2</th>\n",
       "      <td>93528</td>\n",
       "      <td>6.0</td>\n",
       "      <td>RAND COMMUNITIES WATER DISTRICT</td>\n",
       "    </tr>\n",
       "    <tr>\n",
       "      <th>3</th>\n",
       "      <td>93558</td>\n",
       "      <td>4.0</td>\n",
       "      <td>RAND COMMUNITIES WATER DISTRICT</td>\n",
       "    </tr>\n",
       "  </tbody>\n",
       "</table>\n",
       "</div>"
      ],
      "text/plain": [
       "   Zip Code  More than $1000                                  sys_name\n",
       "6     90003              0.0                      GSWC (small systems)\n",
       "8     90003           3437.0  LOS ANGELES-CITY, DEPT. OF WATER & POWER\n",
       "5     90047              0.0                      GSWC (small systems)\n",
       "9     90047           2200.0  LOS ANGELES-CITY, DEPT. OF WATER & POWER\n",
       "10    91042           1137.0  LOS ANGELES-CITY, DEPT. OF WATER & POWER\n",
       "11    91304           2509.0  LOS ANGELES-CITY, DEPT. OF WATER & POWER\n",
       "12    91307           1416.0  LOS ANGELES-CITY, DEPT. OF WATER & POWER\n",
       "7     91311              0.0                GLENDALE-CITY, WATER DEPT.\n",
       "13    91311           1812.0  LOS ANGELES-CITY, DEPT. OF WATER & POWER\n",
       "14    91436            785.0  LOS ANGELES-CITY, DEPT. OF WATER & POWER\n",
       "4     92230           6076.0                    CABAZON WATER DISTRICT\n",
       "0     92341              1.0                          GREEN VALLEY MWC\n",
       "1     92341             27.0                          GREEN VALLEY MWC\n",
       "2     93528              6.0           RAND COMMUNITIES WATER DISTRICT\n",
       "3     93558              4.0           RAND COMMUNITIES WATER DISTRICT"
      ]
     },
     "execution_count": 73,
     "metadata": {},
     "output_type": "execute_result"
    }
   ],
   "source": [
    "#Per capita\n",
    "byname='More than $1000'\n",
    "df_join=pd.merge(zips[['Zip Code',byname]].groupby('Zip Code').sum().reset_index(),zip_dem[['ZCTA','pop']],left_on='Zip Code',right_on='ZCTA')\n",
    "df_join.loc[:,'Per Capita']=df_join[byname]/df_join['pop']\n",
    "dfz=df_join.sort_values(by='Per Capita',ascending=False).head(11)\n",
    "zips_in=zips[zips['Zip Code'].isin(dfz['Zip Code'])]\n",
    "pd.merge(zips_in,name_ref).sort_values(by='Zip Code')[['Zip Code',byname,'sys_name']]"
   ]
  },
  {
   "cell_type": "code",
   "execution_count": 3,
   "metadata": {},
   "outputs": [],
   "source": [
    "orig_list=pd.read_csv(r'C:\\Users\\mpinheiro\\Documents\\GitHub\\EconImpact\\Datasets\\surveyList.csv')\n",
    "def mk_pwsid(row):\n",
    "    return('CA{:07d}'.format(int(row['Water.System.No.'])))\n",
    "orig_list.loc[:,'PWSID']=orig_list.apply(mk_pwsid,axis=1)\n",
    "sample_pwsid=list(orig_list['PWSID'])\n",
    "\n",
    "large_data=pd.read_excel(r'C:\\Users\\mpinheiro\\Jupyter Notebooks\\COVID-19\\Generate_Forms\\Sample_list_large.xlsx')\n",
    "large_list=list(large_data['PWSID'])"
   ]
  },
  {
   "cell_type": "code",
   "execution_count": 12,
   "metadata": {},
   "outputs": [
    {
     "name": "stderr",
     "output_type": "stream",
     "text": [
      "C:\\Anaconda-3.7\\lib\\site-packages\\pandas\\core\\indexing.py:845: SettingWithCopyWarning: \n",
      "A value is trying to be set on a copy of a slice from a DataFrame.\n",
      "Try using .loc[row_indexer,col_indexer] = value instead\n",
      "\n",
      "See the caveats in the documentation: https://pandas.pydata.org/pandas-docs/stable/user_guide/indexing.html#returning-a-view-versus-a-copy\n",
      "  self.obj[key] = _infer_fill_value(value)\n",
      "C:\\Anaconda-3.7\\lib\\site-packages\\pandas\\core\\indexing.py:966: SettingWithCopyWarning: \n",
      "A value is trying to be set on a copy of a slice from a DataFrame.\n",
      "Try using .loc[row_indexer,col_indexer] = value instead\n",
      "\n",
      "See the caveats in the documentation: https://pandas.pydata.org/pandas-docs/stable/user_guide/indexing.html#returning-a-view-versus-a-copy\n",
      "  self.obj[item] = s\n"
     ]
    }
   ],
   "source": [
    "#Question 1: How many systems will require financial assistance?\n",
    "dat=sq[['PWSID','sys_name','months_before_assist','Population','Service Connections']].dropna(subset=['months_before_assist'])\n",
    "def need_assist(row):\n",
    "    n=['A','B']\n",
    "    if(row['months_before_assist'] in n):\n",
    "        return('Y')\n",
    "    else:\n",
    "        return('N')\n",
    "    \n",
    "dat.loc[:,'Financial crisis']=dat.apply(need_assist,axis=1)\n",
    "q1_store=pd.DataFrame()\n",
    "for i,r in dat.iterrows():\n",
    "    p=r['PWSID']\n",
    "    res=r['months_before_assist']\n",
    "    if len(p)>9:\n",
    "        results=p.split(',')\n",
    "        res2=[x.strip() for x in results]\n",
    "        #look up the number of connections\n",
    "        conns=conn_ref[conn_ref['PWSID'].isin(res2)]\n",
    "    else:\n",
    "        conns=conn_ref[conn_ref['PWSID']==p]\n",
    "    conns.loc[:,'resp']=res\n",
    "    q1_store=q1_store.append(conns,ignore_index=True)\n",
    "\n",
    "q1_store=q1_store.drop_duplicates()\n",
    "qg=q1_store.groupby(['resp','Bin']).size().unstack().iloc[:,:-1]\n",
    "qg2=qg.copy()\n",
    "ntot=qg2.sum(axis=1)\n",
    "for c in qg2.columns:\n",
    "    qg2.loc[:,c]=qg2[c]/ntot"
   ]
  },
  {
   "cell_type": "code",
   "execution_count": 13,
   "metadata": {},
   "outputs": [
    {
     "data": {
      "text/plain": [
       "Text(0, 0.5, '% of systems')"
      ]
     },
     "execution_count": 13,
     "metadata": {},
     "output_type": "execute_result"
    },
    {
     "data": {
      "image/png": "[encoded data removed]",
      "text/plain": [
       "<Figure size 720x360 with 2 Axes>"
      ]
     },
     "metadata": {
      "needs_background": "light"
     },
     "output_type": "display_data"
    }
   ],
   "source": [
    "labs=['A','B','C','D','E','F']\n",
    "labs2=['0-3','4-6','7-9','10-12','>12','No assist']\n",
    "fig,ax=plt.subplots(1,2,figsize=(10,5))\n",
    "qg.plot(kind='bar',ax=ax[0],stacked=True)\n",
    "ax[0].set_xticklabels(labs2,rotation=45,size=12)        \n",
    "ax[0].set_xlabel('Months before financial\\nassistance required',size=16)\n",
    "ax[0].set_ylabel('Number of systems',size=14)\n",
    "\n",
    "qg2.plot(kind='bar',ax=ax[1],stacked=True,legend=None)\n",
    "ax[1].set_xticklabels(labs2,rotation=45,size=12)        \n",
    "ax[1].set_xlabel('Months before financial\\nassistance required',size=16)\n",
    "ax[1].set_ylabel('% of systems',size=14)"
   ]
  },
  {
   "cell_type": "code",
   "execution_count": 8,
   "metadata": {},
   "outputs": [
    {
     "name": "stderr",
     "output_type": "stream",
     "text": [
      "C:\\Anaconda-3.7\\lib\\site-packages\\pandas\\core\\indexing.py:845: SettingWithCopyWarning: \n",
      "A value is trying to be set on a copy of a slice from a DataFrame.\n",
      "Try using .loc[row_indexer,col_indexer] = value instead\n",
      "\n",
      "See the caveats in the documentation: https://pandas.pydata.org/pandas-docs/stable/user_guide/indexing.html#returning-a-view-versus-a-copy\n",
      "  self.obj[key] = _infer_fill_value(value)\n",
      "C:\\Anaconda-3.7\\lib\\site-packages\\pandas\\core\\indexing.py:966: SettingWithCopyWarning: \n",
      "A value is trying to be set on a copy of a slice from a DataFrame.\n",
      "Try using .loc[row_indexer,col_indexer] = value instead\n",
      "\n",
      "See the caveats in the documentation: https://pandas.pydata.org/pandas-docs/stable/user_guide/indexing.html#returning-a-view-versus-a-copy\n",
      "  self.obj[item] = s\n"
     ]
    }
   ],
   "source": [
    "#Question 2: How many systems have deficits equivalent to x% of reserve funds?\n",
    "dat=sq[['PWSID','sys_name','expense_2020_Total','revenue_2020_Total','cash_reserve_restricted','cash_reserve_unrestricted','cash_reserve_total','Population','Service Connections']]\n",
    "dat.loc[:,'budget_diff']=dat['revenue_2020_Total']-dat['expense_2020_Total']\n",
    "q2_store=pd.DataFrame()\n",
    "for i,r in dat.iterrows():\n",
    "    p=r['PWSID']\n",
    "    res=r['budget_diff']\n",
    "    cash=r['cash_reserve_total']\n",
    "    cash_u=r['cash_reserve_unrestricted']\n",
    "    if (np.isnan(cash_u)&(np.isnan(r['cash_reserve_restricted']))):\n",
    "        cash_u=cash\n",
    "    if len(p)>9:\n",
    "        results=p.split(',')\n",
    "        res2=[x.strip() for x in results]\n",
    "        #look up the number of connections\n",
    "        conns=conn_ref[conn_ref['PWSID'].isin(res2)]\n",
    "    else:\n",
    "        conns=conn_ref[conn_ref['PWSID']==p]\n",
    "    conns.loc[:,'resp']=res\n",
    "    conns.loc[:,'cash']=cash\n",
    "    conns.loc[:,'cash_u']=cash_u\n",
    "    q2_store=q2_store.append(conns,ignore_index=True)\n",
    "q2_store=q2_store.drop_duplicates()\n",
    "q22=q2_store.dropna(subset=['resp'])\n",
    "q2def=q22[(q22['resp']<0)&(q22['cash']>0)].dropna(subset=['cash'])\n",
    "q2def.loc[:,'cash_u']=q2def['cash_u']+1\n",
    "q2def.loc[:,'ratio']=q2def['resp']/q2def['cash']\n",
    "q2def.loc[:,'ratio_u']=q2def['resp']/q2def['cash_u']\n",
    "ratio_labels=['Over 100% of reserve','75-100% of reserve','50-75% of reserve','25-50% of reserve','Less than 25% of reserve']\n",
    "\n",
    "q2def.loc[:,'cash label']=pd.cut(q2def['ratio'],bins=[-100,-1,-0.75,-0.5,-0.25,0],\n",
    "                               labels=ratio_labels)\n",
    "q2def.loc[:,'cash_u label']=pd.cut(q2def['ratio_u'],bins=[-100,-1,-0.75,-0.5,-0.25,0],\n",
    "                               labels=ratio_labels)\n",
    "r2=ratio_labels[::-1]\n",
    "qg=q2def.groupby(['cash label','Bin']).size().unstack().iloc[:,:-1].reindex(r2)\n",
    "qg2=qg.copy()\n",
    "ntot=qg2.sum(axis=1)\n",
    "for c in qg2.columns:\n",
    "    qg2.loc[:,c]=qg2[c]/ntot"
   ]
  },
  {
   "cell_type": "code",
   "execution_count": 9,
   "metadata": {},
   "outputs": [
    {
     "name": "stdout",
     "output_type": "stream",
     "text": [
      "Bin                        A   B   C  D\n",
      "cash label                             \n",
      "Less than 25% of reserve  27  19  11  8\n",
      "25-50% of reserve          4   2   2  0\n",
      "50-75% of reserve          2   0   0  0\n",
      "75-100% of reserve         2   0   1  1\n",
      "Over 100% of reserve       4   2   4  0\n",
      "Bin                        A   B   C  D\n",
      "cash_u label                           \n",
      "Less than 25% of reserve  24  17  11  6\n",
      "25-50% of reserve          4   3   2  2\n",
      "50-75% of reserve          2   1   0  0\n",
      "75-100% of reserve         2   0   1  0\n",
      "Over 100% of reserve       4   1   3  0\n"
     ]
    }
   ],
   "source": [
    "qg3=q2def.groupby(['cash_u label','Bin']).size().unstack().iloc[:,:-1].reindex(r2)\n",
    "print(qg)\n",
    "print(qg3)"
   ]
  },
  {
   "cell_type": "code",
   "execution_count": 10,
   "metadata": {},
   "outputs": [
    {
     "data": {
      "text/plain": [
       "Text(0, 0.5, '% of systems')"
      ]
     },
     "execution_count": 10,
     "metadata": {},
     "output_type": "execute_result"
    },
    {
     "data": {
      "image/png": "[encoded data removed]",
      "text/plain": [
       "<Figure size 720x360 with 2 Axes>"
      ]
     },
     "metadata": {
      "needs_background": "light"
     },
     "output_type": "display_data"
    }
   ],
   "source": [
    "labs=['<25%','25-50','50-75','75-100','>100%']\n",
    "fig,ax=plt.subplots(1,2,figsize=(10,5))\n",
    "qg.plot(kind='bar',ax=ax[0],stacked=True)\n",
    "ax[0].set_xticklabels(labs,rotation=45,size=12)        \n",
    "ax[0].set_xlabel('Percent of system deficit\\n in terms of total cash reserve',size=16)\n",
    "ax[0].set_ylabel('Number of systems',size=14)\n",
    "\n",
    "qg2.plot(kind='bar',ax=ax[1],stacked=True,legend=None)\n",
    "ax[1].set_xticklabels(labs,rotation=45,size=12)        \n",
    "ax[1].set_xlabel('Percent of system deficit\\n in terms of total cash reserve',size=16)\n",
    "ax[1].set_ylabel('% of systems',size=14)"
   ]
  },
  {
   "cell_type": "code",
   "execution_count": 11,
   "metadata": {},
   "outputs": [
    {
     "name": "stderr",
     "output_type": "stream",
     "text": [
      "C:\\Anaconda-3.7\\lib\\site-packages\\pandas\\core\\indexing.py:845: SettingWithCopyWarning: \n",
      "A value is trying to be set on a copy of a slice from a DataFrame.\n",
      "Try using .loc[row_indexer,col_indexer] = value instead\n",
      "\n",
      "See the caveats in the documentation: https://pandas.pydata.org/pandas-docs/stable/user_guide/indexing.html#returning-a-view-versus-a-copy\n",
      "  self.obj[key] = _infer_fill_value(value)\n",
      "C:\\Anaconda-3.7\\lib\\site-packages\\pandas\\core\\indexing.py:966: SettingWithCopyWarning: \n",
      "A value is trying to be set on a copy of a slice from a DataFrame.\n",
      "Try using .loc[row_indexer,col_indexer] = value instead\n",
      "\n",
      "See the caveats in the documentation: https://pandas.pydata.org/pandas-docs/stable/user_guide/indexing.html#returning-a-view-versus-a-copy\n",
      "  self.obj[item] = s\n"
     ]
    }
   ],
   "source": [
    "#Question 5: What is the population served by systems with various levels of financial vulnerability?\n",
    "#Days of cash on hand? Operating Ratio? Per capita revenue?\n",
    "\n",
    "#number of days: April through October\n",
    "ndays=30+31+30+31+31+30+31\n",
    "dat=sq[['PWSID','sys_name','months_before_assist','expense_2020_Total','revenue_2020_Total','cash_reserve_restricted','cash_reserve_unrestricted','cash_reserve_total','Population','Service Connections']]\n",
    "\n",
    "q5_store=pd.DataFrame()\n",
    "for i,r in dat.iterrows():\n",
    "    p=r['PWSID']\n",
    "    cash=r['cash_reserve_total']\n",
    "    cash_u=r['cash_reserve_unrestricted']\n",
    "    expense=r['expense_2020_Total']\n",
    "    rev=r['revenue_2020_Total']\n",
    "    res=r['months_before_assist']\n",
    "    \n",
    "    if (np.isnan(cash_u)&(np.isnan(r['cash_reserve_restricted']))):\n",
    "        #print(cash,r['cash_reserve_restricted'],cash_u)\n",
    "        cash_u=cash\n",
    "        #print(cash_u)\n",
    "\n",
    "    if len(p)>9:\n",
    "        results=p.split(',')\n",
    "        res2=[x.strip() for x in results]\n",
    "        #look up the number of connections\n",
    "        conns=conn_ref[conn_ref['PWSID'].isin(res2)]\n",
    "    else:\n",
    "        conns=conn_ref[conn_ref['PWSID']==p]\n",
    "\n",
    "    conns.loc[:,'cash']=cash\n",
    "    conns.loc[:,'cash_u']=cash_u\n",
    "    conns.loc[:,'cash_u_days']=cash_u/(expense/ndays)\n",
    "    conns.loc[:,'cash_days']=cash/(expense/ndays)\n",
    "    conns.loc[:,'op_ratio']=rev/expense\n",
    "    conns.loc[:,'months']=res\n",
    "    q5_store=q5_store.append(conns,ignore_index=True)\n",
    "q5_store=q5_store.drop_duplicates()\n",
    "\n",
    "\n",
    "\n"
   ]
  },
  {
   "cell_type": "code",
   "execution_count": 12,
   "metadata": {},
   "outputs": [],
   "source": [
    "#Assign risk scores based on various factors\n",
    "#5: Extreme\n",
    "#4: High\n",
    "#3: Medium-high\n",
    "#2: Medium\n",
    "#1: low\n",
    "#0: None\n",
    "month_risk={'A':5,'B':4,'C':3,'D':2,'E':1,'F':0}\n",
    "#only work with the ones that provide all info\n",
    "q5_data=q5_store\n",
    "q5_data.loc[:,'cash_score']=pd.cut(q5_data['cash_u_days'],bins=[-1,30,60,90,180,365,1000000000],labels=[5,4,3,2,1,0])\n",
    "q5_data.loc[:,'ratio_score']=pd.cut(q5_data['op_ratio'],bins=[0,0.5,0.95,1.2,1.5,2,100],labels=[5,4,3,2,1,0])\n",
    "q5_data.loc[:,'month_score']=q5_data['months'].map(month_risk)\n",
    "q5_data.loc[:,'score_avg']=q5_data[['ratio_score','cash_score','month_score']].mean(axis=1)\n",
    "#q5_data['score_avg'].hist()\n",
    "q5_data.loc[:,'Risk label']=pd.cut(q5_data['score_avg'],bins=[-1,0.25,1.5,2.5,3.5,4.5,5.5],labels=['very low','low','medium','medium high','high','extreme'])"
   ]
  },
  {
   "cell_type": "code",
   "execution_count": 13,
   "metadata": {},
   "outputs": [
    {
     "data": {
      "text/plain": [
       "Text(0, 0.5, '% of systems')"
      ]
     },
     "execution_count": 13,
     "metadata": {},
     "output_type": "execute_result"
    },
    {
     "data": {
      "image/png": "[encoded data removed]",
      "text/plain": [
       "<Figure size 720x360 with 2 Axes>"
      ]
     },
     "metadata": {
      "needs_background": "light"
     },
     "output_type": "display_data"
    }
   ],
   "source": [
    "#q5_data.dropna(subset=['score_avg']).to_excel('risk_scores.xlsx',index=False)\n",
    "q5_plot=q5_data.dropna(subset=['score_avg']).groupby(['Risk label','Bin']).size().unstack().iloc[:,:-1]\n",
    "qtot=q5_plot.sum(axis=1)\n",
    "q5_norm=q5_plot.copy()\n",
    "for c in q5_norm.columns:\n",
    "    q5_norm.loc[:,c]=q5_norm[c]/qtot\n",
    "\n",
    "fig,ax=plt.subplots(1,2,figsize=(10,5))\n",
    "q5_plot.plot(kind='bar',ax=ax[0],stacked=True)\n",
    "ax[0].set_xticklabels(['very low','low','medium','medium\\nhigh','high','extreme'],rotation=45,size=12)        \n",
    "ax[0].set_xlabel('Level of financial risk',size=16)\n",
    "ax[0].set_ylabel('Number of systems',size=14)\n",
    "\n",
    "q5_norm.plot(kind='bar',ax=ax[1],stacked=True,legend=None)\n",
    "ax[1].set_xticklabels(['very low','low','medium','medium\\nhigh','high','extreme'],rotation=45,size=12)        \n",
    "ax[1].set_xlabel('Level of financial risk',size=16)\n",
    "ax[1].set_ylabel('% of systems',size=14)"
   ]
  },
  {
   "cell_type": "code",
   "execution_count": 202,
   "metadata": {},
   "outputs": [],
   "source": [
    "#Statewide estimates with weights and imputed results\n",
    "imp_data=pd.read_csv('../Datasets/fullSurveyIMPUTED.csv',encoding = \"ISO-8859-1\")\n",
    "risk_data=imp_data[['tag','cash_score','ratio_score','month_score','risk_score_avg','final.weight.nonresponse','fpc']]\n",
    "risk_data.loc[:,'w_f']=risk_data['final.weight.nonresponse']*risk_data['fpc']\n",
    "risk_data.loc[:,'lab_avg']=pd.to_numeric(pd.cut(risk_data['risk_score_avg'],bins=[-1,0.25,1.5,2.5,3.5,4.5,5.5],labels=[0,1,2,3,4,5]))\n",
    "#Testing the weighting\n",
    "summ_frame=pd.DataFrame()\n",
    "x=0\n",
    "for c in ['cash_score','ratio_score','month_score','lab_avg']:\n",
    "    dsub=risk_data[['tag','final.weight.nonresponse',c]].fillna(-1)\n",
    "    surv_resp=dsub.groupby(['tag',c]).size().unstack()\n",
    "    state_resp=dsub.groupby(['tag',c]).sum().unstack()\n",
    "    for t in dsub['tag'].unique():\n",
    "        for i in range(-1,6):\n",
    "            summ_frame.loc[x,'Var']=c\n",
    "            summ_frame.loc[x,'Val']=i\n",
    "            summ_frame.loc[x,'Bin']=t\n",
    "            summ_frame.loc[x,'N']=surv_resp.loc[t][i]\n",
    "            summ_frame.loc[x,'N_W']=state_resp.loc[t][i]\n",
    "            x+=1\n"
   ]
  },
  {
   "cell_type": "code",
   "execution_count": 204,
   "metadata": {},
   "outputs": [],
   "source": [
    "summ_frame.pivot_table(index=['Var','Bin'],columns='Val',values=['N','N_W']).to_excel('risk_scores_test.xlsx')"
   ]
  },
  {
   "cell_type": "code",
   "execution_count": 222,
   "metadata": {},
   "outputs": [
    {
     "data": {
      "text/plain": [
       "[Text(0, 0, 'very low'),\n",
       " Text(0, 0, 'low'),\n",
       " Text(0, 0, 'medium'),\n",
       " Text(0, 0, 'medium\\nhigh'),\n",
       " Text(0, 0, 'high'),\n",
       " Text(0, 0, 'extreme')]"
      ]
     },
     "execution_count": 222,
     "metadata": {},
     "output_type": "execute_result"
    },
    {
     "data": {
      "image/png": "[encoded data removed]",
      "text/plain": [
       "<Figure size 1080x720 with 2 Axes>"
      ]
     },
     "metadata": {
      "needs_background": "light"
     },
     "output_type": "display_data"
    }
   ],
   "source": [
    "df_pivot=summ_frame.pivot_table(index=['Var','Bin'],columns='Val',values=['N','N_W'])\n",
    "fig,ax=plt.subplots(1,2,figsize=(15,10))\n",
    "df_pivot.loc['lab_avg','N'][[0,1,2,3,4,5]].transpose().plot(kind='bar',stacked=True,ax=ax[0])\n",
    "df_pivot.loc['lab_avg','N_W'][[0,1,2,3,4,5]].transpose().plot(kind='bar',stacked=True,ax=ax[1])\n",
    "ax[0].set_title('Sample')\n",
    "ax[1].set_title('Statewide estimate')\n",
    "ax[0].set_xticklabels(['very low','low','medium','medium\\nhigh','high','extreme'],rotation=45,size=12) \n",
    "ax[1].set_xticklabels(['very low','low','medium','medium\\nhigh','high','extreme'],rotation=45,size=12) "
   ]
  }
 ],
 "metadata": {
  "kernelspec": {
   "display_name": "Python 3",
   "language": "python",
   "name": "python3"
  },
  "language_info": {
   "codemirror_mode": {
    "name": "ipython",
    "version": 3
   },
   "file_extension": ".py",
   "mimetype": "text/x-python",
   "name": "python",
   "nbconvert_exporter": "python",
   "pygments_lexer": "ipython3",
   "version": "3.7.7"
  }
 },
 "nbformat": 4,
 "nbformat_minor": 4
}
