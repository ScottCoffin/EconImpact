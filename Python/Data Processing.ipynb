{
 "cells": [
  {
   "cell_type": "code",
   "execution_count": 97,
   "metadata": {},
   "outputs": [],
   "source": [
    "import pandas as pd\n",
    "import numpy as np\n",
    "import matplotlib.pyplot as plt\n",
    "\n",
    "#Read in the dataset\n",
    "lq=pd.read_excel('../Datasets/combined_results_w_pop.xlsx','Large System Financial Qs')\n",
    "sq=pd.read_excel('../Datasets/combined_results_w_pop.xlsx','Small System Financial Qs')\n",
    "conn_ref=pd.read_excel('../Datasets/combined_results_w_pop.xlsx','Population and Connections')\n",
    "conn_ref.loc[:,'Bin']=pd.cut(conn_ref['Service Connections'],bins=[0,1045,3383,6458,10000,1000000000],\n",
    "                            labels=['A','B','C','D','Large'])"
   ]
  },
  {
   "cell_type": "code",
   "execution_count": 265,
   "metadata": {},
   "outputs": [
    {
     "name": "stderr",
     "output_type": "stream",
     "text": [
      "C:\\Anaconda-3.7\\lib\\site-packages\\pandas\\core\\indexing.py:845: SettingWithCopyWarning: \n",
      "A value is trying to be set on a copy of a slice from a DataFrame.\n",
      "Try using .loc[row_indexer,col_indexer] = value instead\n",
      "\n",
      "See the caveats in the documentation: https://pandas.pydata.org/pandas-docs/stable/user_guide/indexing.html#returning-a-view-versus-a-copy\n",
      "  self.obj[key] = _infer_fill_value(value)\n",
      "C:\\Anaconda-3.7\\lib\\site-packages\\pandas\\core\\indexing.py:966: SettingWithCopyWarning: \n",
      "A value is trying to be set on a copy of a slice from a DataFrame.\n",
      "Try using .loc[row_indexer,col_indexer] = value instead\n",
      "\n",
      "See the caveats in the documentation: https://pandas.pydata.org/pandas-docs/stable/user_guide/indexing.html#returning-a-view-versus-a-copy\n",
      "  self.obj[item] = s\n"
     ]
    }
   ],
   "source": [
    "#Question 1: How many systems will require financial assistance?\n",
    "dat=sq[['PWSID','sys_name','months_before_assist','Population','Service Connections']].dropna(subset=['months_before_assist'])\n",
    "def need_assist(row):\n",
    "    n=['A','B']\n",
    "    if(row['months_before_assist'] in n):\n",
    "        return('Y')\n",
    "    else:\n",
    "        return('N')\n",
    "    \n",
    "dat.loc[:,'Financial crisis']=dat.apply(need_assist,axis=1)\n",
    "q1_store=pd.DataFrame()\n",
    "for i,r in dat.iterrows():\n",
    "    p=r['PWSID']\n",
    "    res=r['months_before_assist']\n",
    "    if len(p)>9:\n",
    "        results=p.split(',')\n",
    "        res2=[x.strip() for x in results]\n",
    "        #look up the number of connections\n",
    "        conns=conn_ref[conn_ref['PWSID'].isin(res2)]\n",
    "    else:\n",
    "        conns=conn_ref[conn_ref['PWSID']==p]\n",
    "    conns.loc[:,'resp']=res\n",
    "    q1_store=q1_store.append(conns,ignore_index=True)\n",
    "\n",
    "q1_store=q1_store.drop_duplicates()\n",
    "qg=q1_store.groupby(['resp','Bin']).size().unstack().iloc[:,:-1]\n",
    "qg2=qg.copy()\n",
    "ntot=qg2.sum(axis=1)\n",
    "for c in qg2.columns:\n",
    "    qg2.loc[:,c]=qg2[c]/ntot"
   ]
  },
  {
   "cell_type": "code",
   "execution_count": 266,
   "metadata": {},
   "outputs": [
    {
     "data": {
      "text/plain": [
       "Text(0, 0.5, '% of systems')"
      ]
     },
     "execution_count": 266,
     "metadata": {},
     "output_type": "execute_result"
    },
    {
     "data": {
      "image/png": "[encoded data removed]",
      "text/plain": [
       "<Figure size 720x360 with 2 Axes>"
      ]
     },
     "metadata": {
      "needs_background": "light"
     },
     "output_type": "display_data"
    }
   ],
   "source": [
    "labs=['A','B','C','D','E','F']\n",
    "labs2=['0-3','4-6','7-9','10-12','>12','No assist']\n",
    "fig,ax=plt.subplots(1,2,figsize=(10,5))\n",
    "qg.plot(kind='bar',ax=ax[0],stacked=True)\n",
    "ax[0].set_xticklabels(labs2,rotation=45,size=12)        \n",
    "ax[0].set_xlabel('Months before financial\\nassistance required',size=16)\n",
    "ax[0].set_ylabel('Number of systems',size=14)\n",
    "\n",
    "qg2.plot(kind='bar',ax=ax[1],stacked=True,legend=None)\n",
    "ax[1].set_xticklabels(labs2,rotation=45,size=12)        \n",
    "ax[1].set_xlabel('Months before financial\\nassistance required',size=16)\n",
    "ax[1].set_ylabel('% of systems',size=14)"
   ]
  },
  {
   "cell_type": "code",
   "execution_count": 267,
   "metadata": {},
   "outputs": [],
   "source": [
    "#Question 2: How many systems have deficits equivalent to x% of reserve funds?\n",
    "dat=sq[['PWSID','sys_name','expense_2020_Total','revenue_2020_Total','cash_reserve_restricted','cash_reserve_unrestricted','cash_reserve_total','Population','Service Connections']]\n",
    "dat.loc[:,'budget_diff']=dat['revenue_2020_Total']-dat['expense_2020_Total']\n",
    "q2_store=pd.DataFrame()\n",
    "for i,r in dat.iterrows():\n",
    "    p=r['PWSID']\n",
    "    res=r['budget_diff']\n",
    "    cash=r['cash_reserve_total']\n",
    "    cash_u=r['cash_reserve_unrestricted']\n",
    "    if (np.isnan(cash_u)&(np.isnan(r['cash_reserve_restricted']))):\n",
    "        cash_u=cash\n",
    "    if len(p)>9:\n",
    "        results=p.split(',')\n",
    "        res2=[x.strip() for x in results]\n",
    "        #look up the number of connections\n",
    "        conns=conn_ref[conn_ref['PWSID'].isin(res2)]\n",
    "    else:\n",
    "        conns=conn_ref[conn_ref['PWSID']==p]\n",
    "    conns.loc[:,'resp']=res\n",
    "    conns.loc[:,'cash']=cash\n",
    "    conns.loc[:,'cash_u']=cash_u\n",
    "    q2_store=q2_store.append(conns,ignore_index=True)\n",
    "q2_store=q2_store.drop_duplicates()\n",
    "q22=q2_store.dropna(subset=['resp'])\n",
    "q2def=q22[(q22['resp']<0)&(q22['cash']>0)].dropna(subset=['cash'])\n",
    "q2def.loc[:,'cash_u']=q2def['cash_u']+1\n",
    "q2def.loc[:,'ratio']=q2def['resp']/q2def['cash']\n",
    "q2def.loc[:,'ratio_u']=q2def['resp']/q2def['cash_u']\n",
    "ratio_labels=['Over 100% of reserve','75-100% of reserve','50-75% of reserve','25-50% of reserve','Less than 25% of reserve']\n",
    "\n",
    "q2def.loc[:,'cash label']=pd.cut(q2def['ratio'],bins=[-100,-1,-0.75,-0.5,-0.25,0],\n",
    "                               labels=ratio_labels)\n",
    "q2def.loc[:,'cash_u label']=pd.cut(q2def['ratio_u'],bins=[-100,-1,-0.75,-0.5,-0.25,0],\n",
    "                               labels=ratio_labels)\n",
    "r2=ratio_labels[::-1]\n",
    "qg=q2def.groupby(['cash label','Bin']).size().unstack().iloc[:,:-1].reindex(r2)\n",
    "qg2=qg.copy()\n",
    "ntot=qg2.sum(axis=1)\n",
    "for c in qg2.columns:\n",
    "    qg2.loc[:,c]=qg2[c]/ntot"
   ]
  },
  {
   "cell_type": "code",
   "execution_count": 268,
   "metadata": {},
   "outputs": [
    {
     "name": "stdout",
     "output_type": "stream",
     "text": [
      "Bin                        A   B   C  D\n",
      "cash label                             \n",
      "Less than 25% of reserve  27  19  11  8\n",
      "25-50% of reserve          4   2   2  0\n",
      "50-75% of reserve          2   0   0  0\n",
      "75-100% of reserve         2   0   1  1\n",
      "Over 100% of reserve       4   2   4  0\n",
      "Bin                        A   B   C  D\n",
      "cash_u label                           \n",
      "Less than 25% of reserve  24  17  11  6\n",
      "25-50% of reserve          4   3   2  2\n",
      "50-75% of reserve          2   1   0  0\n",
      "75-100% of reserve         2   0   1  0\n",
      "Over 100% of reserve       4   1   3  0\n"
     ]
    }
   ],
   "source": [
    "qg3=q2def.groupby(['cash_u label','Bin']).size().unstack().iloc[:,:-1].reindex(r2)\n",
    "print(qg)\n",
    "print(qg3)"
   ]
  },
  {
   "cell_type": "code",
   "execution_count": 269,
   "metadata": {},
   "outputs": [
    {
     "data": {
      "text/plain": [
       "Text(0, 0.5, '% of systems')"
      ]
     },
     "execution_count": 269,
     "metadata": {},
     "output_type": "execute_result"
    },
    {
     "data": {
      "image/png": "[encoded data removed]",
      "text/plain": [
       "<Figure size 720x360 with 2 Axes>"
      ]
     },
     "metadata": {
      "needs_background": "light"
     },
     "output_type": "display_data"
    }
   ],
   "source": [
    "labs=['<25%','25-50','50-75','75-100','>100%']\n",
    "fig,ax=plt.subplots(1,2,figsize=(10,5))\n",
    "qg.plot(kind='bar',ax=ax[0],stacked=True)\n",
    "ax[0].set_xticklabels(labs,rotation=45,size=12)        \n",
    "ax[0].set_xlabel('Percent of system deficit\\n in terms of total cash reserve',size=16)\n",
    "ax[0].set_ylabel('Number of systems',size=14)\n",
    "\n",
    "qg2.plot(kind='bar',ax=ax[1],stacked=True,legend=None)\n",
    "ax[1].set_xticklabels(labs,rotation=45,size=12)        \n",
    "ax[1].set_xlabel('Percent of system deficit\\n in terms of total cash reserve',size=16)\n",
    "ax[1].set_ylabel('% of systems',size=14)"
   ]
  },
  {
   "cell_type": "code",
   "execution_count": 285,
   "metadata": {},
   "outputs": [
    {
     "name": "stderr",
     "output_type": "stream",
     "text": [
      "C:\\Anaconda-3.7\\lib\\site-packages\\pandas\\core\\indexing.py:845: SettingWithCopyWarning: \n",
      "A value is trying to be set on a copy of a slice from a DataFrame.\n",
      "Try using .loc[row_indexer,col_indexer] = value instead\n",
      "\n",
      "See the caveats in the documentation: https://pandas.pydata.org/pandas-docs/stable/user_guide/indexing.html#returning-a-view-versus-a-copy\n",
      "  self.obj[key] = _infer_fill_value(value)\n",
      "C:\\Anaconda-3.7\\lib\\site-packages\\pandas\\core\\indexing.py:966: SettingWithCopyWarning: \n",
      "A value is trying to be set on a copy of a slice from a DataFrame.\n",
      "Try using .loc[row_indexer,col_indexer] = value instead\n",
      "\n",
      "See the caveats in the documentation: https://pandas.pydata.org/pandas-docs/stable/user_guide/indexing.html#returning-a-view-versus-a-copy\n",
      "  self.obj[item] = s\n"
     ]
    }
   ],
   "source": [
    "#Question 5: What is the population served by systems with various levels of financial vulnerability?\n",
    "#Days of cash on hand? Operating Ratio? Per capita revenue?\n",
    "\n",
    "#number of days: April through October\n",
    "ndays=30+31+30+31+31+30+31\n",
    "dat=sq[['PWSID','sys_name','months_before_assist','expense_2020_Total','revenue_2020_Total','cash_reserve_restricted','cash_reserve_unrestricted','cash_reserve_total','Population','Service Connections']]\n",
    "\n",
    "q5_store=pd.DataFrame()\n",
    "for i,r in dat.iterrows():\n",
    "    p=r['PWSID']\n",
    "    cash=r['cash_reserve_total']\n",
    "    cash_u=r['cash_reserve_unrestricted']\n",
    "    expense=r['expense_2020_Total']\n",
    "    rev=r['revenue_2020_Total']\n",
    "    res=r['months_before_assist']\n",
    "    \n",
    "    if (np.isnan(cash_u)&(np.isnan(r['cash_reserve_restricted']))):\n",
    "        #print(cash,r['cash_reserve_restricted'],cash_u)\n",
    "        cash_u=cash\n",
    "        #print(cash_u)\n",
    "\n",
    "    if len(p)>9:\n",
    "        results=p.split(',')\n",
    "        res2=[x.strip() for x in results]\n",
    "        #look up the number of connections\n",
    "        conns=conn_ref[conn_ref['PWSID'].isin(res2)]\n",
    "    else:\n",
    "        conns=conn_ref[conn_ref['PWSID']==p]\n",
    "\n",
    "    conns.loc[:,'cash']=cash\n",
    "    conns.loc[:,'cash_u']=cash_u\n",
    "    conns.loc[:,'cash_u_days']=cash_u/(expense/ndays)\n",
    "    conns.loc[:,'cash_days']=cash/(expense/ndays)\n",
    "    conns.loc[:,'op_ratio']=rev/expense\n",
    "    conns.loc[:,'months']=res\n",
    "    q5_store=q5_store.append(conns,ignore_index=True)\n",
    "q5_store=q5_store.drop_duplicates()\n",
    "\n",
    "\n",
    "\n"
   ]
  },
  {
   "cell_type": "code",
   "execution_count": 324,
   "metadata": {},
   "outputs": [],
   "source": [
    "#Assign risk scores based on various factors\n",
    "#5: Extreme\n",
    "#4: High\n",
    "#3: Medium-high\n",
    "#2: Medium\n",
    "#1: low\n",
    "#0: None\n",
    "month_risk={'A':5,'B':4,'C':3,'D':2,'E':1,'F':0}\n",
    "#only work with the ones that provide all info\n",
    "q5_data=q5_store\n",
    "q5_data.loc[:,'cash_score']=pd.cut(q5_data['cash_u_days'],bins=[-1,30,60,90,180,365,1000000000],labels=[5,4,3,2,1,0])\n",
    "q5_data.loc[:,'ratio_score']=pd.cut(q5_data['op_ratio'],bins=[0,0.5,0.95,1.2,1.5,2,100],labels=[5,4,3,2,1,0])\n",
    "q5_data.loc[:,'month_score']=q5_data['months'].map(month_risk)\n",
    "q5_data.loc[:,'score_avg']=q5_data[['ratio_score','cash_score','month_score']].mean(axis=1)\n",
    "#q5_data['score_avg'].hist()\n",
    "q5_data.loc[:,'Risk label']=pd.cut(q5_data['score_avg'],bins=[-1,0.25,1.5,2.5,3.5,4.5,5.5],labels=['very low','low','medium','medium high','high','extreme'])"
   ]
  },
  {
   "cell_type": "code",
   "execution_count": 348,
   "metadata": {},
   "outputs": [
    {
     "data": {
      "text/plain": [
       "Text(0, 0.5, 'Number of systems')"
      ]
     },
     "execution_count": 348,
     "metadata": {},
     "output_type": "execute_result"
    },
    {
     "data": {
      "image/png": "[encoded data removed]",
      "text/plain": [
       "<Figure size 720x360 with 2 Axes>"
      ]
     },
     "metadata": {
      "needs_background": "light"
     },
     "output_type": "display_data"
    }
   ],
   "source": [
    "#q5_data.dropna(subset=['score_avg']).to_excel('risk_scores.xlsx',index=False)\n",
    "q5_plot=q5_data.dropna(subset=['score_avg']).groupby(['Risk label','Bin']).size().unstack().iloc[:,:-1]\n",
    "qtot=q5_plot.sum(axis=1)\n",
    "q5_norm=q5_plot.copy()\n",
    "for c in q5_norm.columns:\n",
    "    q5_norm.loc[:,c]=q5_norm[c]/qtot\n",
    "\n",
    "fig,ax=plt.subplots(1,2,figsize=(10,5))\n",
    "q5_plot.plot(kind='bar',ax=ax[0],stacked=True)\n",
    "ax[0].set_xticklabels(['very low','low','medium','medium\\nhigh','high','extreme'],rotation=45,size=12)        \n",
    "ax[0].set_xlabel('Level of financial risk',size=16)\n",
    "ax[0].set_ylabel('Number of systems',size=14)\n",
    "\n",
    "q5_norm.plot(kind='bar',ax=ax[1],stacked=True,legend=None)\n",
    "ax[1].set_xticklabels(['very low','low','medium','medium\\nhigh','high','extreme'],rotation=45,size=12)        \n",
    "ax[1].set_xlabel('Level of financial risk',size=16)\n",
    "ax[1].set_ylabel('Number of systems',size=14)"
   ]
  },
  {
   "cell_type": "code",
   "execution_count": 344,
   "metadata": {},
   "outputs": [
    {
     "data": {
      "text/html": [
       "<div>\n",
       "<style scoped>\n",
       "    .dataframe tbody tr th:only-of-type {\n",
       "        vertical-align: middle;\n",
       "    }\n",
       "\n",
       "    .dataframe tbody tr th {\n",
       "        vertical-align: top;\n",
       "    }\n",
       "\n",
       "    .dataframe thead th {\n",
       "        text-align: right;\n",
       "    }\n",
       "</style>\n",
       "<table border=\"1\" class=\"dataframe\">\n",
       "  <thead>\n",
       "    <tr style=\"text-align: right;\">\n",
       "      <th>Bin</th>\n",
       "      <th>A</th>\n",
       "      <th>B</th>\n",
       "      <th>C</th>\n",
       "      <th>D</th>\n",
       "    </tr>\n",
       "    <tr>\n",
       "      <th>Risk label</th>\n",
       "      <th></th>\n",
       "      <th></th>\n",
       "      <th></th>\n",
       "      <th></th>\n",
       "    </tr>\n",
       "  </thead>\n",
       "  <tbody>\n",
       "    <tr>\n",
       "      <th>very low</th>\n",
       "      <td>0.672727</td>\n",
       "      <td>0.218182</td>\n",
       "      <td>0.036364</td>\n",
       "      <td>0.072727</td>\n",
       "    </tr>\n",
       "    <tr>\n",
       "      <th>low</th>\n",
       "      <td>0.405882</td>\n",
       "      <td>0.288235</td>\n",
       "      <td>0.147059</td>\n",
       "      <td>0.158824</td>\n",
       "    </tr>\n",
       "    <tr>\n",
       "      <th>medium</th>\n",
       "      <td>0.377953</td>\n",
       "      <td>0.251969</td>\n",
       "      <td>0.267717</td>\n",
       "      <td>0.102362</td>\n",
       "    </tr>\n",
       "    <tr>\n",
       "      <th>medium high</th>\n",
       "      <td>0.444444</td>\n",
       "      <td>0.250000</td>\n",
       "      <td>0.166667</td>\n",
       "      <td>0.138889</td>\n",
       "    </tr>\n",
       "    <tr>\n",
       "      <th>high</th>\n",
       "      <td>0.533333</td>\n",
       "      <td>0.266667</td>\n",
       "      <td>0.066667</td>\n",
       "      <td>0.133333</td>\n",
       "    </tr>\n",
       "    <tr>\n",
       "      <th>extreme</th>\n",
       "      <td>0.600000</td>\n",
       "      <td>0.200000</td>\n",
       "      <td>0.200000</td>\n",
       "      <td>0.000000</td>\n",
       "    </tr>\n",
       "  </tbody>\n",
       "</table>\n",
       "</div>"
      ],
      "text/plain": [
       "Bin                 A         B         C         D\n",
       "Risk label                                         \n",
       "very low     0.672727  0.218182  0.036364  0.072727\n",
       "low          0.405882  0.288235  0.147059  0.158824\n",
       "medium       0.377953  0.251969  0.267717  0.102362\n",
       "medium high  0.444444  0.250000  0.166667  0.138889\n",
       "high         0.533333  0.266667  0.066667  0.133333\n",
       "extreme      0.600000  0.200000  0.200000  0.000000"
      ]
     },
     "execution_count": 344,
     "metadata": {},
     "output_type": "execute_result"
    }
   ],
   "source": [
    "q5_norm"
   ]
  }
 ],
 "metadata": {
  "kernelspec": {
   "display_name": "Python 3",
   "language": "python",
   "name": "python3"
  },
  "language_info": {
   "codemirror_mode": {
    "name": "ipython",
    "version": 3
   },
   "file_extension": ".py",
   "mimetype": "text/x-python",
   "name": "python",
   "nbconvert_exporter": "python",
   "pygments_lexer": "ipython3",
   "version": "3.7.7"
  }
 },
 "nbformat": 4,
 "nbformat_minor": 4
}
