{
 "cells": [
  {
   "cell_type": "code",
   "execution_count": 7,
   "metadata": {},
   "outputs": [],
   "source": [
    "import pandas as pd\n",
    "\n",
    "cws_list=pd.read_excel('../Datasets/CWS_fmt_PWSID.xlsx')\n",
    "county_ref=pd.read_csv('../Datasets/ALL_watersystems_tracts_intersection.csv')[['PWSID','D_PRIN_CNT']].drop_duplicates()\n",
    "county_cws=pd.merge(cws_list,county_ref,how='left')"
   ]
  },
  {
   "cell_type": "code",
   "execution_count": 33,
   "metadata": {},
   "outputs": [],
   "source": [
    "#Tier reminder:\n",
    "# 1: More than 7 new cases per 100,000, more than 8% positive testing\n",
    "## Most indoor business closed, some outdoor. Personal care can open with modification\n",
    "# 2: 4-7 new cases per 100,000, 5-8% positive testing\n",
    "## Some indoor business closed, some can open 25% capacity. Gyms 10% capacity. Schools reopen after 2 wks in red\n",
    "# 3: 1-3.9 new cases per 100,000, 2-4.9% positive testing\n",
    "## Indoor businesses open \n",
    "# 4: <1 new case per 100,000, <2% positive testing\n",
    "\n",
    "ue_data=pd.read_excel('../Datasets/COVID_county/unemployment_jan_to_oct.xlsx')\n",
    "covid_data_sep=pd.read_excel('../Datasets/COVID_county/covid_county_data.xlsx','data_0908')\n",
    "covid_data_sep.loc[:,'County']=covid_data_sep['County'].str.upper()\n",
    "covid_data_nov=pd.read_excel('../Datasets/COVID_county/covid_county_data.xlsx','data_1116_to_1122')\n",
    "covid_data_nov.loc[:,'County']=covid_data_nov['County'].str.upper()\n",
    "m1=pd.merge(ue_data,covid_data_sep[['County','Tier Status Sep']])\n",
    "ue_tiers=pd.merge(m1,covid_data_nov[['County','Tier Status Nov','County Population']])\n",
    "for m in ['Jan','Feb','Mar','Apr','May','Jun','Jul','Aug','Sep','Oct']:\n",
    "    ue_tiers.loc[:,'{:} County UE %'.format(m)]=ue_tiers[m]/ue_tiers['County Population']"
   ]
  },
  {
   "cell_type": "code",
   "execution_count": 34,
   "metadata": {},
   "outputs": [],
   "source": [
    "ue_tiers.to_excel('ue_covid_tiers.xlsx')"
   ]
  },
  {
   "cell_type": "code",
   "execution_count": 37,
   "metadata": {},
   "outputs": [],
   "source": [
    "ue_system=pd.merge(county_cws,ue_tiers, left_on='D_PRIN_CNT',right_on='County',how='left')\n",
    "ue_system.to_excel('CWS_w_PWSID_COVID_UE_data.xlsx')"
   ]
  }
 ],
 "metadata": {
  "kernelspec": {
   "display_name": "Python 3",
   "language": "python",
   "name": "python3"
  },
  "language_info": {
   "codemirror_mode": {
    "name": "ipython",
    "version": 3
   },
   "file_extension": ".py",
   "mimetype": "text/x-python",
   "name": "python",
   "nbconvert_exporter": "python",
   "pygments_lexer": "ipython3",
   "version": "3.7.7"
  }
 },
 "nbformat": 4,
 "nbformat_minor": 4
}
