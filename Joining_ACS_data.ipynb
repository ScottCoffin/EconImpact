{
 "cells": [
  {
   "cell_type": "code",
   "execution_count": 46,
   "metadata": {},
   "outputs": [
    {
     "name": "stderr",
     "output_type": "stream",
     "text": [
      "C:\\Anaconda-3.7\\lib\\site-packages\\pandas\\core\\indexing.py:845: SettingWithCopyWarning: \n",
      "A value is trying to be set on a copy of a slice from a DataFrame.\n",
      "Try using .loc[row_indexer,col_indexer] = value instead\n",
      "\n",
      "See the caveats in the documentation: https://pandas.pydata.org/pandas-docs/stable/user_guide/indexing.html#returning-a-view-versus-a-copy\n",
      "  self.obj[key] = _infer_fill_value(value)\n",
      "C:\\Anaconda-3.7\\lib\\site-packages\\pandas\\core\\indexing.py:966: SettingWithCopyWarning: \n",
      "A value is trying to be set on a copy of a slice from a DataFrame.\n",
      "Try using .loc[row_indexer,col_indexer] = value instead\n",
      "\n",
      "See the caveats in the documentation: https://pandas.pydata.org/pandas-docs/stable/user_guide/indexing.html#returning-a-view-versus-a-copy\n",
      "  self.obj[item] = s\n"
     ]
    }
   ],
   "source": [
    "import pandas as pd\n",
    "\n",
    "tract_join=pd.read_excel('urws_tracts_intersect.xlsx')\n",
    "tract_data=tract_join[['PWSID','NAME','D_POPULATI','URWS_Area','GEOID10','Hh_MedianIncome','ALAND10','AWATER10','intArea','urws_percent']]\n",
    "tract_data.loc[:,'Tract_Frac']=tract_data['intArea']/(tract_data['ALAND10']+tract_data['AWATER10'])\n",
    "caldata=pd.read_excel('calenviroscreen.xlsx','CES 3.0 (2018 Update)')"
   ]
  },
  {
   "cell_type": "code",
   "execution_count": 47,
   "metadata": {},
   "outputs": [],
   "source": [
    "calsub=caldata[['Census Tract','Total Population','CES 3.0 Score']]\n",
    "cal_merge=pd.merge(calsub,tract_data,left_on='Census Tract',right_on='GEOID10')\n",
    "cal_merge.loc[:,'Tract_Frac_Pop']=cal_merge['Tract_Frac']*cal_merge['Total Population']"
   ]
  },
  {
   "cell_type": "code",
   "execution_count": 51,
   "metadata": {},
   "outputs": [],
   "source": [
    "#Population weighted values?\n",
    "sys_stats=pd.DataFrame()\n",
    "field_calcs=['CES 3.0 Score','Hh_MedianIncome']\n",
    "for p in cal_merge['PWSID'].unique():\n",
    "    csub=cal_merge[cal_merge['PWSID']==p]\n",
    "    cname=csub['NAME'].values[0]\n",
    "    sys_stats.loc[p,'NAME']=cname\n",
    "    sys_stats.loc[p,'N']=len(csub)\n",
    "    sys_stats.loc[p,'Population']=csub['D_POPULATI'].mean()\n",
    "    if (len(csub)<2):\n",
    "\n",
    "        sys_stats.loc[p,'Population']=csub['D_POPULATI'].values[0]\n",
    "        for c in field_calcs:\n",
    "            sys_stats.loc[p,c]=csub[c].values[0]\n",
    "    else:\n",
    "\n",
    "        pop_tracts=csub['Tract_Frac_Pop'].sum()\n",
    "        for c in field_calcs:\n",
    "            #print(csub[['Tract_Frac_Pop',c]])\n",
    "            #print((csub['Tract_Frac_Pop']*csub[c]).sum()/csub['Tract_Frac_Pop'].sum())\n",
    "            sys_stats.loc[p,c]=(csub['Tract_Frac_Pop']*csub[c]).sum()/csub['Tract_Frac_Pop'].sum()\n",
    "        "
   ]
  },
  {
   "cell_type": "code",
   "execution_count": 50,
   "metadata": {},
   "outputs": [],
   "source": [
    "sys_stats.to_excel('example_pop_weighted_characteristics.xlsx')"
   ]
  }
 ],
 "metadata": {
  "kernelspec": {
   "display_name": "Python 3",
   "language": "python",
   "name": "python3"
  },
  "language_info": {
   "codemirror_mode": {
    "name": "ipython",
    "version": 3
   },
   "file_extension": ".py",
   "mimetype": "text/x-python",
   "name": "python",
   "nbconvert_exporter": "python",
   "pygments_lexer": "ipython3",
   "version": "3.7.7"
  }
 },
 "nbformat": 4,
 "nbformat_minor": 4
}
